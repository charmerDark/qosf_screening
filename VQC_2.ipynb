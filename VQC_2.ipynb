{
 "cells": [
  {
   "cell_type": "code",
   "execution_count": 1,
   "metadata": {},
   "outputs": [],
   "source": [
    "from qiskit import *\n",
    "from qiskit.circuit import ParameterVector\n",
    "from qiskit.aqua.components.optimizers import ADAM,COBYLA,SPSA\n",
    "import numpy as np\n",
    "from scipy.optimize import minimize\n",
    "import matplotlib.pyplot as plt\n",
    "from qiskit.quantum_info import random_statevector\n",
    "from qiskit.circuit.library import RXGate,RYGate,RZGate"
   ]
  },
  {
   "cell_type": "code",
   "execution_count": 3,
   "metadata": {},
   "outputs": [],
   "source": [
    "#space to set parameters for the ansatz\n",
    "num_qubits=4 #no of qubits for which the ansatz maybe applied. 4 in question given\n",
    "gates=['rz','rx']#first item of the list selects parametrized gate for the odd block and \n",
    "                #second item on the list for the second block"
   ]
  },
  {
   "cell_type": "code",
   "execution_count": 4,
   "metadata": {},
   "outputs": [],
   "source": [
    "def obj_fun(params,num_qubits=4,reps=4,gates=['rz','rx']):\n",
    "    \"\"\"function should take in a value of parameters, bind the given circuit to the said paramters and run the circuit\n",
    "    then it should subtract the statvector of given circuit from the \"\"\"\n",
    "    num_qubits=num_qubits\n",
    "    reps=reps\n",
    "    circ=QuantumCircuit(num_qubits,num_qubits)\n",
    "    x=ParameterVector('theta',length=num_qubits*2*reps)\n",
    "    for i in range(len(gates)):\n",
    "        if gates[i]=='rx':\n",
    "            gates[i]=RXGate\n",
    "        elif gates[i]=='ry':\n",
    "            gates[i]=RYGate\n",
    "        elif gates[i]=='rz':\n",
    "            gates[i]=RZGate   \n",
    "    t=0\n",
    "    for _ in range(reps):\n",
    "        for i in range(num_qubits):\n",
    "            circ.append(gates[0](x[t]),[i])\n",
    "            t+=1\n",
    "        for i in range(num_qubits):\n",
    "            for j in range(i+1,num_qubits):\n",
    "                circ.cz(i,j)\n",
    "        for i in range(num_qubits):\n",
    "            circ.append(gates[1](x[t]),[i])\n",
    "            t+=1\n",
    "        circ.barrier()\n",
    "    cirq=circ.bind_parameters({x:params})\n",
    "    simulator = Aer.get_backend('statevector_simulator')\n",
    "    # Execute and get counts\n",
    "    result = execute(cirq, simulator,shots=1).result()\n",
    "    svector = result.get_statevector(cirq)\n",
    "    return np.sqrt(np.sum(np.power(np.abs(np.subtract(svector,rvector)),2)))"
   ]
  },
  {
   "cell_type": "code",
   "execution_count": 5,
   "metadata": {},
   "outputs": [],
   "source": [
    "def obj_fun_optimizer(num_qubits, reps):\n",
    "    def obj_fun_wrapper(params):\n",
    "        return obj_fun(params,num_qubits,reps)##Takes reps from the arguement for parent function\n",
    "    opt=COBYLA(tol=0.0001)\n",
    "    return opt.optimize(num_qubits*2*reps,\n",
    "               objective_function=obj_fun_wrapper,\n",
    "                initial_point=np.random.rand(num_qubits*2*reps))"
   ]
  },
  {
   "cell_type": "code",
   "execution_count": 6,
   "metadata": {},
   "outputs": [],
   "source": [
    "def main(num_qubits=4,gates=['rz','rx'],debug=False):\n",
    "    rvector=random_statevector(2**num_qubits).data\n",
    "    x,y=[],[]\n",
    "    for i in range(1,25):\n",
    "        res=obj_fun_optimizer(num_qubits,i)\n",
    "        y.append(res[1])\n",
    "        x.append(i)\n",
    "        if debug==True:\n",
    "            print(res[1],i)\n",
    "        plt.plot(x,y)"
   ]
  },
  {
   "cell_type": "code",
   "execution_count": null,
   "metadata": {},
   "outputs": [],
   "source": [
    "main(num_qubits,gates)# call the function with debug=True to see optimised cost for each depth"
   ]
  },
  {
   "cell_type": "code",
   "execution_count": null,
   "metadata": {},
   "outputs": [],
   "source": []
  }
 ],
 "metadata": {
  "kernelspec": {
   "display_name": "Python 3",
   "language": "python",
   "name": "python3"
  },
  "language_info": {
   "codemirror_mode": {
    "name": "ipython",
    "version": 3
   },
   "file_extension": ".py",
   "mimetype": "text/x-python",
   "name": "python",
   "nbconvert_exporter": "python",
   "pygments_lexer": "ipython3",
   "version": "3.7.6"
  }
 },
 "nbformat": 4,
 "nbformat_minor": 4
}
